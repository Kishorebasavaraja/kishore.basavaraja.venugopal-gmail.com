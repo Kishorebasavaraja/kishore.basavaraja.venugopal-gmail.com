{
 "cells": [
  {
   "cell_type": "markdown",
   "metadata": {
    "collapsed": true
   },
   "source": [
    "# NEW INDIAN RESTAURANT IN WORLD'S TOP BUSINESS CENTERS"
   ]
  },
  {
   "cell_type": "markdown",
   "metadata": {},
   "source": [
    "### Introduction "
   ]
  },
  {
   "cell_type": "markdown",
   "metadata": {},
   "source": [
    "This report is for those who are planning to start a new business in worlds top business centers like Toronto or San Francisco. Suggestions will be based on all the factors need to be considered while starting a new venture."
   ]
  },
  {
   "cell_type": "markdown",
   "metadata": {},
   "source": [
    "### Business Problem"
   ]
  },
  {
   "cell_type": "markdown",
   "metadata": {},
   "source": [
    "The report will focus on problems one might face while opening a new business in world's top business center. There are many factors need to be considered while opening new business. Let us say Aaryan is a young dynamic Indian who wants to open an Indian restaurant. Here location of business will be the first and foremost important point to be decided for Lalit.\n",
    "While deciding the location of business, key questions need to be answered are:-\n",
    "1. On what basis top business cities will be selected?\n",
    "2. On what basis businesse location can be decided?\n",
    "3. Does Aaryan want to rent the place or can he afford to buy it?\n",
    "Key Points to be considered:\n",
    "1. What are top business cities?\n",
    "2. What are prime location for business?\n",
    "3. How many Indian Restaurants are there in particular location ?\n",
    "5. What are their ratings?\n",
    "6. What are the factors that will help Lalit to run his business above average rating?\n",
    "Out of scope for this project:\n",
    "1. Budget for running the business 2. Employee salary 3. Promotional factors "
   ]
  },
  {
   "cell_type": "markdown",
   "metadata": {},
   "source": [
    "### Discusions"
   ]
  },
  {
   "cell_type": "markdown",
   "metadata": {},
   "source": [
    "___Let's discuss the above mentioned problem statements. First Aaryan needs to choose a suitable location for his business. Aaryan wants to open its Indian Restautant in either Toronto or San Francisco. Both cities are famous in world business communities but their real estate is very costly. So initially Aaryan will go for rent instead of purchase___\n",
    "\n",
    "___Assuming that Aaryan wants to rent a place for its Restaurant, now___\n",
    "1. He needs to choose city between Toronto and San Francesco.\n",
    "2. While deciding city, Lalit have to consider\n",
    "            i)   Multi-ethnicity data\n",
    "            ii)  Indian Community data\n",
    "            iii) Social Conditions like crime and violence data\n",
    "            iV)  Economics conditions like Economic stability and progress data\n",
    "            V)   Political stability & government policies for business data\n",
    "            (Data is available on https://www.zillow.com/research/data/,\n",
    "                                  https://en.wikipedia.org/wiki/Demographics_of_Toronto , \n",
    "                                  https://en.wikipedia.org/wiki/Demographics_of_San_Franciscoother \n",
    "                                  and other websites)\n",
    "\n",
    "3. Once the city is decided he will have to find a suitable neighborhoods with more Indian and Asian people.\n",
    "\n",
    "           (Data is available in https://en.wikipedia.org/wiki/List_of_neighbourhoods_in_Toronto\n",
    "                                 https://en.wikipedia.org/wiki/List_of_neighborhoods_in_San_Francisco amd \n",
    "                                 in other CSV format)\n",
    "\n",
    "4. After neighborhood, Aaryan have to find nearby Indian restaurant in neighborhood with their ratings.\n",
    "\n",
    "           (Data can be assessed through Foursquare location data)\n",
    "\n",
    "5. and at the end, Aaryan will be ready to open his new restaurant at proper location"
   ]
  },
  {
   "cell_type": "code",
   "execution_count": null,
   "metadata": {},
   "outputs": [],
   "source": []
  }
 ],
 "metadata": {
  "kernelspec": {
   "display_name": "Python 3.6",
   "language": "python",
   "name": "python3"
  },
  "language_info": {
   "codemirror_mode": {
    "name": "ipython",
    "version": 3
   },
   "file_extension": ".py",
   "mimetype": "text/x-python",
   "name": "python",
   "nbconvert_exporter": "python",
   "pygments_lexer": "ipython3",
   "version": "3.6.9"
  }
 },
 "nbformat": 4,
 "nbformat_minor": 1
}
